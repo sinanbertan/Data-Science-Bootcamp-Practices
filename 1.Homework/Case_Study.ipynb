{
 "cells": [
  {
   "cell_type": "markdown",
   "metadata": {},
   "source": [
    "# Case Study"
   ]
  },
  {
   "cell_type": "markdown",
   "metadata": {},
   "source": [
    "### Introduction\n",
    "\n",
    "A mobile shopping platform is one of the best practices of creating a new business model based on big data and CRM technologies. This platform knows customers' preferences, shopping habits, even the number of children they have, the town their parents live, the activities they do in leisure times etc. This enables the platform to offer a personalized experience with customized campaigns designed for identified micro and macro segments based on customers' lifestyle and preferences through their transactions, without asking any questions. <br/>\n",
    "\n",
    "Data science is the heart of this platform to enhance a rich and customized reach to its each customer. Mass amount of data is collected from online and offline sources about each customer and data science team works on utilizing this data in an insightful manner to be used in identifying shopping behaviors, motivations and needs of each customer on the path of acquisition, retention and growth models. <br/>\n",
    "\n",
    "\n",
    "We prepared this notebook to test the knowledge of our fellow candidates. Good luck to all of you !!"
   ]
  },
  {
   "cell_type": "markdown",
   "metadata": {},
   "source": [
    "|   cid |   month |   spending |   transaction |\n",
    "|------:|--------:|-----------:|--------------:|\n",
    "|     1 |       3 |      52.57 |            27 |\n",
    "|     1 |       4 |      76.98 |            24 |\n",
    "|     1 |       7 |      66.42 |            26 |\n",
    "|     1 |       8 |      54.54 |            26 |\n",
    "|     1 |       9 |     128.21 |            27 |"
   ]
  },
  {
   "cell_type": "markdown",
   "metadata": {},
   "source": [
    "This is a sample transaction data of our customers:\n",
    "\n",
    "- **cid**: Customer Id column represents the unique id assigned to each customer\n",
    "- **month**: Month column represents the month of the transactions\n",
    "- **spending**: Spending column represents the total paid amount within the month\n",
    "- **transaction**: Transaction column represents the total number of transactions within the month\n",
    "\n",
    "**Feel free to add as many cell you need while solving the question and add comments explaining your answer.**"
   ]
  },
  {
   "cell_type": "markdown",
   "metadata": {},
   "source": [
    "## Question 1"
   ]
  },
  {
   "cell_type": "markdown",
   "metadata": {},
   "source": [
    "#### Data importing & wrangling\n",
    "1. Import the necessary packages and functions.\n",
    "2. Read the csv data.\n",
    "3. Write some code to explore the dataset. (row numbers, data types, etc.)\n",
    "4. Assess data visually as well as programmatically using pandas for quality and tidiness issues. "
   ]
  },
  {
   "cell_type": "code",
   "execution_count": 17,
   "metadata": {},
   "outputs": [],
   "source": [
    "# 1.Import all packages needed\n",
    "import pandas as pd\n",
    "import numpy as np\n",
    "import seaborn as sns\n"
   ]
  },
  {
   "cell_type": "code",
   "execution_count": 18,
   "metadata": {},
   "outputs": [
    {
     "data": {
      "text/html": [
       "<div>\n",
       "<style scoped>\n",
       "    .dataframe tbody tr th:only-of-type {\n",
       "        vertical-align: middle;\n",
       "    }\n",
       "\n",
       "    .dataframe tbody tr th {\n",
       "        vertical-align: top;\n",
       "    }\n",
       "\n",
       "    .dataframe thead th {\n",
       "        text-align: right;\n",
       "    }\n",
       "</style>\n",
       "<table border=\"1\" class=\"dataframe\">\n",
       "  <thead>\n",
       "    <tr style=\"text-align: right;\">\n",
       "      <th></th>\n",
       "      <th>cid</th>\n",
       "      <th>month</th>\n",
       "      <th>spending</th>\n",
       "      <th>transaction</th>\n",
       "    </tr>\n",
       "  </thead>\n",
       "  <tbody>\n",
       "    <tr>\n",
       "      <td>0</td>\n",
       "      <td>1</td>\n",
       "      <td>3</td>\n",
       "      <td>52.57</td>\n",
       "      <td>27</td>\n",
       "    </tr>\n",
       "    <tr>\n",
       "      <td>1</td>\n",
       "      <td>1</td>\n",
       "      <td>4</td>\n",
       "      <td>76.98</td>\n",
       "      <td>24</td>\n",
       "    </tr>\n",
       "    <tr>\n",
       "      <td>2</td>\n",
       "      <td>1</td>\n",
       "      <td>7</td>\n",
       "      <td>66.42</td>\n",
       "      <td>26</td>\n",
       "    </tr>\n",
       "    <tr>\n",
       "      <td>3</td>\n",
       "      <td>1</td>\n",
       "      <td>8</td>\n",
       "      <td>54.54</td>\n",
       "      <td>26</td>\n",
       "    </tr>\n",
       "    <tr>\n",
       "      <td>4</td>\n",
       "      <td>1</td>\n",
       "      <td>9</td>\n",
       "      <td>128.21</td>\n",
       "      <td>27</td>\n",
       "    </tr>\n",
       "  </tbody>\n",
       "</table>\n",
       "</div>"
      ],
      "text/plain": [
       "   cid  month  spending  transaction\n",
       "0    1      3     52.57           27\n",
       "1    1      4     76.98           24\n",
       "2    1      7     66.42           26\n",
       "3    1      8     54.54           26\n",
       "4    1      9    128.21           27"
      ]
     },
     "execution_count": 18,
     "metadata": {},
     "output_type": "execute_result"
    }
   ],
   "source": [
    "# 2.Gathering the data\n",
    "\n",
    "dt=pd.read_csv(\"data.csv\")\n",
    "dt.head()\n"
   ]
  },
  {
   "cell_type": "code",
   "execution_count": 19,
   "metadata": {},
   "outputs": [
    {
     "name": "stdout",
     "output_type": "stream",
     "text": [
      "1. 2\n",
      "2. (74669, 4)\n",
      "3. 298676\n",
      "4. cid              int64\n",
      "month            int64\n",
      "spending       float64\n",
      "transaction      int64\n",
      "dtype: object\n"
     ]
    }
   ],
   "source": [
    "# 3.Explore the data\n",
    "print(\"1.\",dt.ndim)\n",
    "print(\"2.\",dt.shape)\n",
    "print(\"3.\",dt.size)\n",
    "print(\"4.\",dt.dtypes)"
   ]
  },
  {
   "cell_type": "code",
   "execution_count": 21,
   "metadata": {},
   "outputs": [
    {
     "name": "stdout",
     "output_type": "stream",
     "text": [
      "         cid  month  spending  transaction\n",
      "0          1      3      53.0           27\n",
      "1          1      4      77.0           24\n",
      "2          1      7      66.0           26\n",
      "3          1      8      55.0           26\n",
      "4          1      9     128.0           27\n",
      "...      ...    ...       ...          ...\n",
      "74664  10000      7      88.0           27\n",
      "74665  10000      8     151.0           25\n",
      "74666  10000      9      64.0           24\n",
      "74667  10000     10      76.0           41\n",
      "74668  10000     12     426.0           43\n",
      "\n",
      "[74669 rows x 4 columns]\n",
      "mean:\n",
      " cid            5007.502029\n",
      "month             6.502404\n",
      "spending        106.310297\n",
      "transaction      29.495641\n",
      "dtype: float64\n",
      "std:\n",
      " cid            2883.623913\n",
      "month             3.454033\n",
      "spending         97.689002\n",
      "transaction       9.793271\n",
      "dtype: float64\n"
     ]
    }
   ],
   "source": [
    "# 4.Check quality\n",
    "df=pd.DataFrame(dt)\n",
    "df.dropna()\n",
    "df.head()\n",
    "print(df.round())\n",
    "print(\"mean:\\n\",df.mean())\n",
    "print(\"std:\\n\",df.std())\n",
    "\n"
   ]
  },
  {
   "cell_type": "markdown",
   "metadata": {},
   "source": [
    "#### Summarizing the data\n",
    "\n",
    "We would like you to calculate these values for each customers:\n",
    "1. **avg_spending:** average spending for each customer\n",
    "2. **std_spending:** standart deviation of spending for each customer\n",
    "3. **tot_spending:** total spending for each customer\n",
    "4. **tot_transaction:** total number of transaction for each customer\n",
    "5. **most_spending_month:** the month that each customer has the most spending    \n",
    "6. **most_transaction_month:** the month that each customer has the most transaction\n",
    "7. Print the results"
   ]
  },
  {
   "cell_type": "markdown",
   "metadata": {},
   "source": [
    "The output seen as:\n",
    "\n",
    "|   cid |   avg_spending |   std_spending |   tot_spending |   tot_transaction |   most_spending_month |   most_transaction_month |\n",
    "|------:|---------------:|---------------:|---------------:|------------------:|----------------------:|-------------------------:|\n",
    "|     1 |       102.39   |        86.3929 |         716.73 |               185 |                    11 |                       11 |\n",
    "|     2 |        71.3813 |        48.3853 |         571.05 |               266 |                     1 |                       12 |\n",
    "|     3 |        86.9167 |        50.4738 |         521.5  |               168 |                     9 |                        9 |\n",
    "|     4 |        86.3875 |        54.4722 |         345.55 |               101 |                    12 |                       12 |\n",
    "|     5 |       104.537  |        89.4826 |         627.22 |               169 |                    10 |                        6 |"
   ]
  },
  {
   "cell_type": "code",
   "execution_count": 25,
   "metadata": {},
   "outputs": [
    {
     "data": {
      "text/html": [
       "<div>\n",
       "<style scoped>\n",
       "    .dataframe tbody tr th:only-of-type {\n",
       "        vertical-align: middle;\n",
       "    }\n",
       "\n",
       "    .dataframe tbody tr th {\n",
       "        vertical-align: top;\n",
       "    }\n",
       "\n",
       "    .dataframe thead th {\n",
       "        text-align: right;\n",
       "    }\n",
       "</style>\n",
       "<table border=\"1\" class=\"dataframe\">\n",
       "  <thead>\n",
       "    <tr style=\"text-align: right;\">\n",
       "      <th></th>\n",
       "      <th>avg_spending</th>\n",
       "      <th>std_spending</th>\n",
       "      <th>to_spending</th>\n",
       "      <th>tot_transaction</th>\n",
       "      <th>most_spending_month</th>\n",
       "      <th>most_transaction_mont</th>\n",
       "    </tr>\n",
       "    <tr>\n",
       "      <th>cid</th>\n",
       "      <th></th>\n",
       "      <th></th>\n",
       "      <th></th>\n",
       "      <th></th>\n",
       "      <th></th>\n",
       "      <th></th>\n",
       "    </tr>\n",
       "  </thead>\n",
       "  <tbody>\n",
       "    <tr>\n",
       "      <td>1</td>\n",
       "      <td>102.390000</td>\n",
       "      <td>86.392892</td>\n",
       "      <td>716.73</td>\n",
       "      <td>185</td>\n",
       "      <td>11</td>\n",
       "      <td>11</td>\n",
       "    </tr>\n",
       "    <tr>\n",
       "      <td>2</td>\n",
       "      <td>71.381250</td>\n",
       "      <td>48.385250</td>\n",
       "      <td>571.05</td>\n",
       "      <td>266</td>\n",
       "      <td>1</td>\n",
       "      <td>12</td>\n",
       "    </tr>\n",
       "    <tr>\n",
       "      <td>3</td>\n",
       "      <td>86.916667</td>\n",
       "      <td>50.473770</td>\n",
       "      <td>521.50</td>\n",
       "      <td>168</td>\n",
       "      <td>9</td>\n",
       "      <td>9</td>\n",
       "    </tr>\n",
       "    <tr>\n",
       "      <td>4</td>\n",
       "      <td>86.387500</td>\n",
       "      <td>54.472186</td>\n",
       "      <td>345.55</td>\n",
       "      <td>101</td>\n",
       "      <td>12</td>\n",
       "      <td>12</td>\n",
       "    </tr>\n",
       "    <tr>\n",
       "      <td>5</td>\n",
       "      <td>104.536667</td>\n",
       "      <td>89.482588</td>\n",
       "      <td>627.22</td>\n",
       "      <td>169</td>\n",
       "      <td>10</td>\n",
       "      <td>6</td>\n",
       "    </tr>\n",
       "  </tbody>\n",
       "</table>\n",
       "</div>"
      ],
      "text/plain": [
       "     avg_spending  std_spending  to_spending  tot_transaction  \\\n",
       "cid                                                             \n",
       "1      102.390000     86.392892       716.73              185   \n",
       "2       71.381250     48.385250       571.05              266   \n",
       "3       86.916667     50.473770       521.50              168   \n",
       "4       86.387500     54.472186       345.55              101   \n",
       "5      104.536667     89.482588       627.22              169   \n",
       "\n",
       "     most_spending_month  most_transaction_mont  \n",
       "cid                                              \n",
       "1                     11                     11  \n",
       "2                      1                     12  \n",
       "3                      9                      9  \n",
       "4                     12                     12  \n",
       "5                     10                      6  "
      ]
     },
     "execution_count": 25,
     "metadata": {},
     "output_type": "execute_result"
    }
   ],
   "source": [
    "#  Use this and additional cells\n",
    "a1=df.groupby(\"cid\")[\"spending\"].mean()\n",
    "a2=df.groupby(\"cid\")[\"spending\"].std()\n",
    "a3=df.groupby(\"cid\")[\"spending\"].sum()\n",
    "a4=df.groupby(\"cid\")[\"transaction\"].sum()\n",
    "a5=(df.month[df.groupby(\"cid\").spending.idxmax()]).values\n",
    "a6=(df.month[df.groupby(\"cid\").transaction.idxmax()]).values\n",
    "snc=pd.DataFrame({\"avg_spending\":a1,\"std_spending\":a2,\n",
    "                  \"to_spending\":a3,\"tot_transaction\":a4,\n",
    "                  \"most_spending_month\":a5,\"most_transaction_mont\":a6})\n",
    "snc.head()\n",
    "\n",
    "\n",
    "\n",
    "\n"
   ]
  },
  {
   "cell_type": "markdown",
   "metadata": {},
   "source": [
    "#### Data Understanding\n",
    "1. Plot the histogram for average spending of costomer\n",
    "2. Calculate mean, mode, median of the distribution (*you should round the values before calculating the mode*)\n",
    "3. Explain the type of the distributon that describes the pattern in the histogram; justify your answer with mean, mode median (*you can answer this question in the comment*)"
   ]
  },
  {
   "cell_type": "code",
   "execution_count": 70,
   "metadata": {},
   "outputs": [
    {
     "data": {
      "image/png": "[encoded data removed]",
      "text/plain": [
       "<Figure size 640x480 with 1 Axes>"
      ]
     },
     "metadata": {},
     "output_type": "display_data"
    }
   ],
   "source": [
    "#1. Plot the histogram for average spending of costomer\n",
    "import seaborn as sns\n",
    "\n",
    "sns.kdeplot(snc[\"mean\"],shade=True);"
   ]
  },
  {
   "cell_type": "code",
   "execution_count": 73,
   "metadata": {},
   "outputs": [
    {
     "data": {
      "text/html": [
       "<div>\n",
       "<style scoped>\n",
       "    .dataframe tbody tr th:only-of-type {\n",
       "        vertical-align: middle;\n",
       "    }\n",
       "\n",
       "    .dataframe tbody tr th {\n",
       "        vertical-align: top;\n",
       "    }\n",
       "\n",
       "    .dataframe thead th {\n",
       "        text-align: right;\n",
       "    }\n",
       "</style>\n",
       "<table border=\"1\" class=\"dataframe\">\n",
       "  <thead>\n",
       "    <tr style=\"text-align: right;\">\n",
       "      <th></th>\n",
       "      <th>cid</th>\n",
       "      <th>month</th>\n",
       "      <th>spending</th>\n",
       "      <th>transaction</th>\n",
       "    </tr>\n",
       "  </thead>\n",
       "  <tbody>\n",
       "    <tr>\n",
       "      <td>count</td>\n",
       "      <td>74669.000000</td>\n",
       "      <td>74669.000000</td>\n",
       "      <td>74669.000000</td>\n",
       "      <td>74669.000000</td>\n",
       "    </tr>\n",
       "    <tr>\n",
       "      <td>mean</td>\n",
       "      <td>5007.502029</td>\n",
       "      <td>6.502404</td>\n",
       "      <td>106.310297</td>\n",
       "      <td>29.495641</td>\n",
       "    </tr>\n",
       "    <tr>\n",
       "      <td>std</td>\n",
       "      <td>2883.623913</td>\n",
       "      <td>3.454033</td>\n",
       "      <td>97.689002</td>\n",
       "      <td>9.793271</td>\n",
       "    </tr>\n",
       "    <tr>\n",
       "      <td>min</td>\n",
       "      <td>1.000000</td>\n",
       "      <td>1.000000</td>\n",
       "      <td>25.920000</td>\n",
       "      <td>2.000000</td>\n",
       "    </tr>\n",
       "    <tr>\n",
       "      <td>25%</td>\n",
       "      <td>2506.000000</td>\n",
       "      <td>4.000000</td>\n",
       "      <td>56.060000</td>\n",
       "      <td>23.000000</td>\n",
       "    </tr>\n",
       "    <tr>\n",
       "      <td>50%</td>\n",
       "      <td>5015.000000</td>\n",
       "      <td>6.000000</td>\n",
       "      <td>79.490000</td>\n",
       "      <td>28.000000</td>\n",
       "    </tr>\n",
       "    <tr>\n",
       "      <td>75%</td>\n",
       "      <td>7502.000000</td>\n",
       "      <td>10.000000</td>\n",
       "      <td>120.890000</td>\n",
       "      <td>34.000000</td>\n",
       "    </tr>\n",
       "    <tr>\n",
       "      <td>max</td>\n",
       "      <td>10000.000000</td>\n",
       "      <td>12.000000</td>\n",
       "      <td>3512.160000</td>\n",
       "      <td>148.000000</td>\n",
       "    </tr>\n",
       "  </tbody>\n",
       "</table>\n",
       "</div>"
      ],
      "text/plain": [
       "                cid         month      spending   transaction\n",
       "count  74669.000000  74669.000000  74669.000000  74669.000000\n",
       "mean    5007.502029      6.502404    106.310297     29.495641\n",
       "std     2883.623913      3.454033     97.689002      9.793271\n",
       "min        1.000000      1.000000     25.920000      2.000000\n",
       "25%     2506.000000      4.000000     56.060000     23.000000\n",
       "50%     5015.000000      6.000000     79.490000     28.000000\n",
       "75%     7502.000000     10.000000    120.890000     34.000000\n",
       "max    10000.000000     12.000000   3512.160000    148.000000"
      ]
     },
     "execution_count": 73,
     "metadata": {},
     "output_type": "execute_result"
    }
   ],
   "source": [
    "#2. Calculate mean, mode, median of the distribution (you should round the values before calculating the mode)\n",
    "dsc=df.describe()\n",
    "dsc"
   ]
  },
  {
   "cell_type": "code",
   "execution_count": null,
   "metadata": {},
   "outputs": [],
   "source": [
    "#3. Explain the type of the distributon that describes the pattern in the histogram; justify your answer with mean, mode median (you can answer this question in the comment)\n",
    "#The distribution pattern is right skewed. The mean is greater than the median and the mode."
   ]
  },
  {
   "cell_type": "markdown",
   "metadata": {},
   "source": [
    "## Question 2"
   ]
  },
  {
   "cell_type": "markdown",
   "metadata": {},
   "source": [
    "#### Write a function to replace all spaces in a string with '--' using an array \n",
    "Make sure that your function O(n) runtime complexity and do not use built-in replace() function.\n",
    "\n",
    "<b>Example input</b>: \"Mr John Smith, 13\" <br>\n",
    "<b>Example output</b>: \"Mr--John--Smith\" <br>\n",
    "\n",
    "You may assume that the array has sufficient space at the end to hold the additional characters, and you are given the true length of the string with the input. Here \"13\" represents the actual length of the string."
   ]
  },
  {
   "cell_type": "code",
   "execution_count": 7,
   "metadata": {},
   "outputs": [],
   "source": [
    "def space_remover(input_str): \n",
    "    b=input_str.split(\",\")   \n",
    "    output_str = b[0].replace(\" \", \"--\")\n",
    "    return output_str\n"
   ]
  },
  {
   "cell_type": "code",
   "execution_count": 8,
   "metadata": {},
   "outputs": [
    {
     "name": "stdout",
     "output_type": "stream",
     "text": [
      "Mr--John--Smith\n",
      "Woow--Data--Science\n"
     ]
    }
   ],
   "source": [
    "#test your solution here\n",
    "input_str1 = 'Mr John Smith, 13'\n",
    "print(space_remover(input_str1)) # expected solution is 'Mr--John--Smith'\n",
    "input_str1 = 'Woow Data Science, 17'\n",
    "print(space_remover(input_str1)) # expected solution is 'Woow--Data--Science'"
   ]
  },
  {
   "cell_type": "markdown",
   "metadata": {},
   "source": [
    "## Question 3"
   ]
  },
  {
   "cell_type": "markdown",
   "metadata": {},
   "source": [
    "#### Using regular expression do following operations on **lorem_ipsum_text**:\n",
    "1. Delete all characters if they are not letters (A-z) and spaces \n",
    "2. Find the count of all occurrence of the words that ends with 'us' but not 'llus'\n",
    "3. Replace all 'ae' with 'æ', (*Don't forget 'Aenean => Ænean'*)\n",
    "3. Replace all the vowels following by 'll' if the word does not end with that vowel as:\n",
    "    - a => @ (ex: nullam => null@m, but nulla => nulla)\n",
    "    - e => 3\n",
    "    - i => %\n",
    "    - o => 0\n",
    "    - u => &\n",
    "\n",
    "Print the results"
   ]
  },
  {
   "cell_type": "code",
   "execution_count": 2,
   "metadata": {},
   "outputs": [],
   "source": [
    "import re\n",
    "\n",
    "lorem_ipsum_text = \"\"\"Lorem ipsum dolor sit amet, consectetur adipiscing elit. Ut sed rhoncus sem, et sagittis tellus. Donec hendrerit sapien ac purus pretium tincidunt. Orci varius natoque penatibus et magnis dis parturient montes, nascetur ridiculus mus. Pellentesque aliquet, lectus eget finibus aliquet, tortor quam semper justo, sed venenatis nunc lectus a arcu. Vivamus egestas rhoncus dolor, vitae sollicitudin urna. Integer eleifend purus eget porta sagittis. Phasellus malesuada ex nibh, a lobortis tellus tempor hendrerit. Integer tincidunt ante et varius semper. Maecenas quis finibus lacus.\n",
    "Sed luctus varius nisi, ac pulvinar erat gravida sit amet. Mauris gravida scelerisque nisi vel sollicitudin. In porta diam nec lorem bibendum semper. Cras ut imperdiet sem, vel bibendum risus. Nulla suscipit enim et efficitur interdum. Mauris consectetur porttitor ipsum. Praesent a tortor quis arcu porttitor ullamcorper ac et diam. Pellentesque rhoncus ultrices facilisis. Pellentesque lectus quam, vestibulum in erat non, venenatis vehicula augue. Praesent at viverra est. Integer libero neque, commodo ut ipsum ac, vulputate pharetra libero. Pellentesque in rhoncus magna. In hac habitasse platea dictumst.\n",
    "Praesent ultrices vel elit vel auctor. Nulla vitae ligula in elit mattis aliquam. Quisque vitae finibus enim. Praesent id maximus mauris. Nunc in pulvinar ligula. Donec condimentum condimentum ipsum aliquet volutpat. Maecenas non porta nunc. Donec risus nulla, pharetra in rhoncus sit amet, efficitur quis urna.\n",
    "Praesent diam ante, ultrices eget libero sit amet, semper auctor metus. Aliquam sit amet vulputate nibh. Suspendisse potenti. Duis dui ligula, consectetur egestas nibh nec, ullamcorper iaculis turpis. Ut volutpat lacus in leo porta, a lobortis diam placerat. Aenean iaculis, leo at semper fringilla, lectus magna rutrum neque, sollicitudin accumsan est felis at purus. Phasellus et scelerisque libero, ac malesuada nulla. Pellentesque maximus eget erat ac consequat. Ut elementum sapien sed leo aliquam, at ultrices elit venenatis. Duis accumsan finibus imperdiet. Vestibulum ante ipsum primis in faucibus orci luctus et ultrices posuere cubilia curae;\n",
    "Nulla augue nunc, pharetra quis tellus sed, egestas luctus mi. Fusce hendrerit sagittis urna eleifend varius. Vestibulum velit magna, aliquam nec tincidunt hendrerit, aliquam non ex. Maecenas ut sem imperdiet, semper metus et, gravida quam. Mauris placerat sed erat sed dapibus. Aliquam a suscipit elit. Fusce non dolor justo. Suspendisse dictum posuere faucibus. Proin pretium ipsum vitae orci sagittis placerat. Nulla hendrerit erat sit amet nunc tristique, quis lacinia enim lobortis. Aenean in pretium augue. Proin posuere purus at nulla ultrices molestie. Morbi et pharetra justo. In vel arcu elit. Nullam at est id odio bibendum iaculis nec dapibus velit.\n",
    "\"\"\""
   ]
  },
  {
   "cell_type": "code",
   "execution_count": 3,
   "metadata": {},
   "outputs": [
    {
     "data": {
      "text/plain": [
       "'Lorem ipsum dolor sit amet consectetur adipiscing elit Ut sed rhoncus sem et sagittis tellus Donec hendrerit sapien ac purus pretium tincidunt Orci varius natoque penatibus et magnis dis parturient montes nascetur ridiculus mus Pellentesque aliquet lectus eget finibus aliquet tortor quam semper justo sed venenatis nunc lectus a arcu Vivamus egestas rhoncus dolor vitae sollicitudin urna Integer eleifend purus eget porta sagittis Phasellus malesuada ex nibh a lobortis tellus tempor hendrerit Integer tincidunt ante et varius semper Maecenas quis finibus lacusSed luctus varius nisi ac pulvinar erat gravida sit amet Mauris gravida scelerisque nisi vel sollicitudin In porta diam nec lorem bibendum semper Cras ut imperdiet sem vel bibendum risus Nulla suscipit enim et efficitur interdum Mauris consectetur porttitor ipsum Praesent a tortor quis arcu porttitor ullamcorper ac et diam Pellentesque rhoncus ultrices facilisis Pellentesque lectus quam vestibulum in erat non venenatis vehicula augue Praesent at viverra est Integer libero neque commodo ut ipsum ac vulputate pharetra libero Pellentesque in rhoncus magna In hac habitasse platea dictumstPraesent ultrices vel elit vel auctor Nulla vitae ligula in elit mattis aliquam Quisque vitae finibus enim Praesent id maximus mauris Nunc in pulvinar ligula Donec condimentum condimentum ipsum aliquet volutpat Maecenas non porta nunc Donec risus nulla pharetra in rhoncus sit amet efficitur quis urnaPraesent diam ante ultrices eget libero sit amet semper auctor metus Aliquam sit amet vulputate nibh Suspendisse potenti Duis dui ligula consectetur egestas nibh nec ullamcorper iaculis turpis Ut volutpat lacus in leo porta a lobortis diam placerat Aenean iaculis leo at semper fringilla lectus magna rutrum neque sollicitudin accumsan est felis at purus Phasellus et scelerisque libero ac malesuada nulla Pellentesque maximus eget erat ac consequat Ut elementum sapien sed leo aliquam at ultrices elit venenatis Duis accumsan finibus imperdiet Vestibulum ante ipsum primis in faucibus orci luctus et ultrices posuere cubilia curaeNulla augue nunc pharetra quis tellus sed egestas luctus mi Fusce hendrerit sagittis urna eleifend varius Vestibulum velit magna aliquam nec tincidunt hendrerit aliquam non ex Maecenas ut sem imperdiet semper metus et gravida quam Mauris placerat sed erat sed dapibus Aliquam a suscipit elit Fusce non dolor justo Suspendisse dictum posuere faucibus Proin pretium ipsum vitae orci sagittis placerat Nulla hendrerit erat sit amet nunc tristique quis lacinia enim lobortis Aenean in pretium augue Proin posuere purus at nulla ultrices molestie Morbi et pharetra justo In vel arcu elit Nullam at est id odio bibendum iaculis nec dapibus velit'"
      ]
     },
     "execution_count": 3,
     "metadata": {},
     "output_type": "execute_result"
    }
   ],
   "source": [
    "#Delete all characters if they are not letters (A-z) and spaces\n",
    "rs=re.sub(\"[^A-z ]\",\"\",lorem_ipsum_text)\n",
    "rs\n"
   ]
  },
  {
   "cell_type": "code",
   "execution_count": 15,
   "metadata": {},
   "outputs": [
    {
     "name": "stdout",
     "output_type": "stream",
     "text": [
      "45\n"
     ]
    }
   ],
   "source": [
    "#Find the count of all occurrence of the words that ends with 'us' but not 'llus'\n",
    "a=re.findall(r\"\\w+us\\b\",lorem_ipsum_text)\n",
    "print(len(a))\n",
    "\n",
    "\n"
   ]
  },
  {
   "cell_type": "code",
   "execution_count": 4,
   "metadata": {},
   "outputs": [
    {
     "data": {
      "text/plain": [
       "'Lorem ipsum dolor sit amet, consectetur adipiscing elit. Ut sed rhoncus sem, et sagittis tellus. Donec hendrerit sapien ac purus pretium tincidunt. Orci varius natoque penatibus et magnis dis parturient montes, nascetur ridiculus mus. Pellentesque aliquet, lectus eget finibus aliquet, tortor quam semper justo, sed venenatis nunc lectus a arcu. Vivamus egestas rhoncus dolor, vitæ sollicitudin urna. Integer eleifend purus eget porta sagittis. Phasellus malesuada ex nibh, a lobortis tellus tempor hendrerit. Integer tincidunt ante et varius semper. Mæcenas quis finibus lacus.\\nSed luctus varius nisi, ac pulvinar erat gravida sit amet. Mauris gravida scelerisque nisi vel sollicitudin. In porta diam nec lorem bibendum semper. Cras ut imperdiet sem, vel bibendum risus. Nulla suscipit enim et efficitur interdum. Mauris consectetur porttitor ipsum. Præsent a tortor quis arcu porttitor ullamcorper ac et diam. Pellentesque rhoncus ultrices facilisis. Pellentesque lectus quam, vestibulum in erat non, venenatis vehicula augue. Præsent at viverra est. Integer libero neque, commodo ut ipsum ac, vulputate pharetra libero. Pellentesque in rhoncus magna. In hac habitasse platea dictumst.\\nPræsent ultrices vel elit vel auctor. Nulla vitæ ligula in elit mattis aliquam. Quisque vitæ finibus enim. Præsent id maximus mauris. Nunc in pulvinar ligula. Donec condimentum condimentum ipsum aliquet volutpat. Mæcenas non porta nunc. Donec risus nulla, pharetra in rhoncus sit amet, efficitur quis urna.\\nPræsent diam ante, ultrices eget libero sit amet, semper auctor metus. Aliquam sit amet vulputate nibh. Suspendisse potenti. Duis dui ligula, consectetur egestas nibh nec, ullamcorper iaculis turpis. Ut volutpat lacus in leo porta, a lobortis diam placerat. Ænean iaculis, leo at semper fringilla, lectus magna rutrum neque, sollicitudin accumsan est felis at purus. Phasellus et scelerisque libero, ac malesuada nulla. Pellentesque maximus eget erat ac consequat. Ut elementum sapien sed leo aliquam, at ultrices elit venenatis. Duis accumsan finibus imperdiet. Vestibulum ante ipsum primis in faucibus orci luctus et ultrices posuere cubilia curæ;\\nNulla augue nunc, pharetra quis tellus sed, egestas luctus mi. Fusce hendrerit sagittis urna eleifend varius. Vestibulum velit magna, aliquam nec tincidunt hendrerit, aliquam non ex. Mæcenas ut sem imperdiet, semper metus et, gravida quam. Mauris placerat sed erat sed dapibus. Aliquam a suscipit elit. Fusce non dolor justo. Suspendisse dictum posuere faucibus. Proin pretium ipsum vitæ orci sagittis placerat. Nulla hendrerit erat sit amet nunc tristique, quis lacinia enim lobortis. Ænean in pretium augue. Proin posuere purus at nulla ultrices molestie. Morbi et pharetra justo. In vel arcu elit. Nullam at est id odio bibendum iaculis nec dapibus velit.\\n'"
      ]
     },
     "execution_count": 4,
     "metadata": {},
     "output_type": "execute_result"
    }
   ],
   "source": [
    "# Replace all 'ae' with 'æ', (Don't forget 'Aenean => Ænean')\n",
    "\n",
    "a1 = re.sub(\"Ae\", \"Æ\",re.sub(\"ae\", \"æ\", lorem_ipsum_text))\n",
    "a1"
   ]
  },
  {
   "cell_type": "code",
   "execution_count": 7,
   "metadata": {},
   "outputs": [
    {
     "data": {
      "text/plain": [
       "'Lllrllm llpsllm dlllllr sllt llmllt, cllnsllctlltllr lldllpllscllng lllllt. llt slld rhllnclls sllm, llt sllgllttlls tlllllls. Dllnllc hllndrllrllt sllplllln llc pllrlls prlltllllm tllnclldllnt. llrcll vllrlllls nlltllqllll pllnlltllblls llt mllgnlls dlls pllrtllrllllnt mllntlls, nllsclltllr rlldllcllllls mlls. Pllllllntllsqllll lllllqllllt, lllctlls llgllt fllnllblls lllllqllllt, tllrtllr qllllm sllmpllr jllstll, slld vllnllnlltlls nllnc lllctlls ll llrcll. Vllvllmlls llgllstlls rhllnclls dlllllr, vlltllll sllllllclltlldlln llrnll. llntllgllr lllllllfllnd pllrlls llgllt pllrtll sllgllttlls. Phllslllllls mlllllslllldll llx nllbh, ll lllbllrtlls tlllllls tllmpllr hllndrllrllt. llntllgllr tllnclldllnt llntll llt vllrlllls sllmpllr. Mllllcllnlls qlllls fllnllblls lllclls.\\nSlld lllctlls vllrlllls nllsll, llc plllvllnllr llrllt grllvlldll sllt llmllt. Mllllrlls grllvlldll sclllllrllsqllll nllsll vlll sllllllclltlldlln. lln pllrtll dllllm nllc lllrllm bllbllndllm sllmpllr. Crlls llt llmpllrdllllt sllm, vlll bllbllndllm rllslls. Nllllll sllscllpllt llnllm llt llffllclltllr llntllrdllm. Mllllrlls cllnsllctlltllr pllrttlltllr llpsllm. Prllllsllnt ll tllrtllr qlllls llrcll pllrttlltllr llllllmcllrpllr llc llt dllllm. Pllllllntllsqllll rhllnclls llltrllclls fllclllllslls. Pllllllntllsqllll lllctlls qllllm, vllstllblllllm lln llrllt nlln, vllnllnlltlls vllhllclllll llllgllll. Prllllsllnt llt vllvllrrll llst. llntllgllr lllbllrll nllqllll, cllmmlldll llt llpsllm llc, vlllplltlltll phllrlltrll lllbllrll. Pllllllntllsqllll lln rhllnclls mllgnll. lln hllc hllblltllssll pllltllll dllctllmst.\\nPrllllsllnt llltrllclls vlll lllllt vlll llllctllr. Nllllll vlltllll lllglllll lln lllllt mllttlls lllllqllllm. Qllllsqllll vlltllll fllnllblls llnllm. Prllllsllnt lld mllxllmlls mllllrlls. Nllnc lln plllvllnllr lllglllll. Dllnllc cllndllmllntllm cllndllmllntllm llpsllm lllllqllllt vllllltpllt. Mllllcllnlls nlln pllrtll nllnc. Dllnllc rllslls nllllll, phllrlltrll lln rhllnclls sllt llmllt, llffllclltllr qlllls llrnll.\\nPrllllsllnt dllllm llntll, llltrllclls llgllt lllbllrll sllt llmllt, sllmpllr llllctllr mlltlls. lllllqllllm sllt llmllt vlllplltlltll nllbh. Sllspllndllssll plltllntll. Dlllls dllll lllglllll, cllnsllctlltllr llgllstlls nllbh nllc, llllllmcllrpllr llllcllllls tllrplls. llt vllllltpllt lllclls lln lllll pllrtll, ll lllbllrtlls dllllm plllcllrllt. llllnlllln llllcllllls, lllll llt sllmpllr frllngllllll, lllctlls mllgnll rlltrllm nllqllll, sllllllclltlldlln llccllmslln llst fllllls llt pllrlls. Phllslllllls llt sclllllrllsqllll lllbllrll, llc mlllllslllldll nllllll. Pllllllntllsqllll mllxllmlls llgllt llrllt llc cllnsllqllllt. llt lllllmllntllm sllplllln slld lllll lllllqllllm, llt llltrllclls lllllt vllnllnlltlls. Dlllls llccllmslln fllnllblls llmpllrdllllt. Vllstllblllllm llntll llpsllm prllmlls lln fllllcllblls llrcll lllctlls llt llltrllclls pllsllllrll cllblllllll cllrllll;\\nNllllll llllgllll nllnc, phllrlltrll qlllls tlllllls slld, llgllstlls lllctlls mll. Fllscll hllndrllrllt sllgllttlls llrnll lllllllfllnd vllrlllls. Vllstllblllllm vlllllt mllgnll, lllllqllllm nllc tllnclldllnt hllndrllrllt, lllllqllllm nlln llx. Mllllcllnlls llt sllm llmpllrdllllt, sllmpllr mlltlls llt, grllvlldll qllllm. Mllllrlls plllcllrllt slld llrllt slld dllpllblls. lllllqllllm ll sllscllpllt lllllt. Fllscll nlln dlllllr jllstll. Sllspllndllssll dllctllm pllsllllrll fllllcllblls. Prlllln prlltllllm llpsllm vlltllll llrcll sllgllttlls plllcllrllt. Nllllll hllndrllrllt llrllt sllt llmllt nllnc trllstllqllll, qlllls lllcllnllll llnllm lllbllrtlls. llllnlllln lln prlltllllm llllgllll. Prlllln pllsllllrll pllrlls llt nllllll llltrllclls mlllllstllll. Mllrbll llt phllrlltrll jllstll. lln vlll llrcll lllllt. Nllllllm llt llst lld lldllll bllbllndllm llllcllllls nllc dllpllblls vlllllt.\\n'"
      ]
     },
     "execution_count": 7,
     "metadata": {},
     "output_type": "execute_result"
    }
   ],
   "source": [
    "#Replace all the vowels following by 'll' if the word does not end with that vowel as:\n",
    "rg=\"[aieuoAEIOU]\"\n",
    "a2=re.sub(rg,\"ll\",lorem_ipsum_text)\n",
    "a2\n"
   ]
  },
  {
   "cell_type": "markdown",
   "metadata": {},
   "source": [
    "## Question 4"
   ]
  },
  {
   "cell_type": "markdown",
   "metadata": {},
   "source": [
    "You should write your code in **SQL programming language**. Don't forgot that you can not run your code in this notebook."
   ]
  },
  {
   "cell_type": "markdown",
   "metadata": {},
   "source": [
    "Consider the \"Employee\" table below:"
   ]
  },
  {
   "cell_type": "markdown",
   "metadata": {},
   "source": [
    "| Emp_Id  | Emp_name  | Salary  | Manager_Id  |\n",
    "|---|---|---|---|\n",
    "| 10 | Anil  | 50000  |  18 |\n",
    "| 11 | Vikas  | 75000  |   16 |\n",
    "| 12 | Nisha | 40000 |  18 |\n",
    "| 13 | Nidhi  | 60000 | 17  |\n",
    "| 14 | Priya  | 80000 |  18 |\n",
    "| 15 | Mohit |  45000 |  18 |\n",
    "| 16 | Rajesh  | 90000 | -  |\n",
    "| 17 | Raman  | 55000 | 16  |\n",
    "| 18 | Santosh  | 65000 |  17 |"
   ]
  },
  {
   "cell_type": "markdown",
   "metadata": {},
   "source": [
    "Write a query to generate below output:"
   ]
  },
  {
   "cell_type": "markdown",
   "metadata": {},
   "source": [
    "| Manager_Id  | Manager  | Average_Salary_Under_Manager  |\n",
    "|---|---|---|\n",
    "| 16 | Rajesh  | 65000  |\n",
    "| 17 | Raman  | 62500  |\n",
    "| 18 | Santosh | 53750 |"
   ]
  },
  {
   "cell_type": "code",
   "execution_count": null,
   "metadata": {},
   "outputs": [],
   "source": [
    "#Write your SQL Code here.\n",
    "\n",
    "SELECT Manager.Manager_Id, Manager.Manager, AVG(Employee.Salary) AS Average_Salary_Under_Manaer\n",
    "FROM Employee, Manager\n",
    "WHERE Employee.Manager_Id=Manager.Manager_Id\n",
    "GROUPBY Employee.Emp_Id"
   ]
  },
  {
   "cell_type": "markdown",
   "metadata": {},
   "source": [
    "##  Thank you.."
   ]
  },
  {
   "cell_type": "code",
   "execution_count": null,
   "metadata": {},
   "outputs": [],
   "source": []
  }
 ],
 "metadata": {
  "environment": {
   "name": "tf2-gpu.2-1.m46",
   "type": "gcloud",
   "uri": "gcr.io/deeplearning-platform-release/tf2-gpu.2-1:m46"
  },
  "kernelspec": {
   "display_name": "Python 3 (ipykernel)",
   "language": "python",
   "name": "python3"
  },
  "language_info": {
   "codemirror_mode": {
    "name": "ipython",
    "version": 3
   },
   "file_extension": ".py",
   "mimetype": "text/x-python",
   "name": "python",
   "nbconvert_exporter": "python",
   "pygments_lexer": "ipython3",
   "version": "3.7.4"
  }
 },
 "nbformat": 4,
 "nbformat_minor": 4
}
